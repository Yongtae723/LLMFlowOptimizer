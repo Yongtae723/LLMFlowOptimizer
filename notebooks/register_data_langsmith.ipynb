{
 "cells": [
  {
   "cell_type": "code",
   "execution_count": null,
   "metadata": {},
   "outputs": [],
   "source": [
    "import json\n",
    "\n",
    "from dotenv import load_dotenv\n",
    "\n",
    "load_dotenv()\n",
    "\n",
    "with open(\"../data/evaluation/NY_eval_data.json\") as f:\n",
    "    eval_data = json.load(f)"
   ]
  },
  {
   "cell_type": "code",
   "execution_count": null,
   "metadata": {},
   "outputs": [],
   "source": [
    "# dataset creation\n",
    "\n",
    "from langsmith import Client\n",
    "from langsmith.utils import LangSmithError\n",
    "\n",
    "client = Client()\n",
    "dataset_name = \"NYC test\"\n",
    "\n",
    "try:\n",
    "    # check if dataset exists\n",
    "    dataset = client.read_dataset(dataset_name=dataset_name)\n",
    "    print(\"Since the dataset already exists, we delete and recreate it.\")\n",
    "    client.delete_dataset(\n",
    "        dataset_id=dataset.id,\n",
    "    )\n",
    "except LangSmithError:\n",
    "    print(\"No dataset on langsmith.Creating a new dataset.\")\n",
    "finally:\n",
    "    # if not create a new one with the generated query examples\n",
    "    dataset = client.create_dataset(dataset_name=dataset_name, description=\"NYC test dataset\")\n",
    "    for e in eval_data:\n",
    "        client.create_example(\n",
    "            inputs={\"query\": e[\"question\"]},\n",
    "            outputs={\"ground_truths\": e[\"ground_truth\"]},\n",
    "            dataset_id=dataset.id,\n",
    "        )\n",
    "\n",
    "    print(\"Created a new dataset: \", dataset.name)"
   ]
  }
 ],
 "metadata": {
  "kernelspec": {
   "display_name": ".venv",
   "language": "python",
   "name": "python3"
  },
  "language_info": {
   "codemirror_mode": {
    "name": "ipython",
    "version": 3
   },
   "file_extension": ".py",
   "mimetype": "text/x-python",
   "name": "python",
   "nbconvert_exporter": "python",
   "pygments_lexer": "ipython3",
   "version": "3.10.4"
  }
 },
 "nbformat": 4,
 "nbformat_minor": 2
}
